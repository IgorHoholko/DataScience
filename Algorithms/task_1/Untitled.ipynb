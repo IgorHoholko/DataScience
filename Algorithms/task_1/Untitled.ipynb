{
 "cells": [
  {
   "cell_type": "code",
   "execution_count": 1,
   "metadata": {},
   "outputs": [],
   "source": [
    "import numpy as np\n",
    "import pandas as pd\n",
    "import itertools\n",
    "import sys\n",
    "import copy"
   ]
  },
  {
   "cell_type": "code",
   "execution_count": 2,
   "metadata": {},
   "outputs": [],
   "source": [
    "header = ['name', 'salary', 'value']\n",
    "\n",
    "data = [\n",
    "['Иван', 800, 15],\n",
    "['Петр', 1700,29],\n",
    "['Михаил', 400, 7],\n",
    "['Светлана',  900, 18],\n",
    "['Евгений',1100, 22],\n",
    "['Надежда',  2200, 32],\n",
    "['Ирина',  600, 14],\n",
    "['Максим',  1400, 24],\n",
    "['Анна',  1700, 30],\n",
    "['Матвей',  500, 8],\n",
    "['Ян',  200,  3],\n",
    "['Ника',  1300,  22],\n",
    "['Ольга',  800,  16],\n",
    "['Константин',  1900, 28],\n",
    "['Алиса',  300, 5],\n",
    "['Андрей', 1500, 21],\n",
    "['Павел',  300, 5]]"
   ]
  },
  {
   "cell_type": "code",
   "execution_count": 3,
   "metadata": {},
   "outputs": [
    {
     "data": {
      "text/html": [
       "<div>\n",
       "<style scoped>\n",
       "    .dataframe tbody tr th:only-of-type {\n",
       "        vertical-align: middle;\n",
       "    }\n",
       "\n",
       "    .dataframe tbody tr th {\n",
       "        vertical-align: top;\n",
       "    }\n",
       "\n",
       "    .dataframe thead th {\n",
       "        text-align: right;\n",
       "    }\n",
       "</style>\n",
       "<table border=\"1\" class=\"dataframe\">\n",
       "  <thead>\n",
       "    <tr style=\"text-align: right;\">\n",
       "      <th></th>\n",
       "      <th>name</th>\n",
       "      <th>salary</th>\n",
       "      <th>value</th>\n",
       "    </tr>\n",
       "  </thead>\n",
       "  <tbody>\n",
       "    <tr>\n",
       "      <th>0</th>\n",
       "      <td>Иван</td>\n",
       "      <td>800</td>\n",
       "      <td>15</td>\n",
       "    </tr>\n",
       "    <tr>\n",
       "      <th>1</th>\n",
       "      <td>Петр</td>\n",
       "      <td>1700</td>\n",
       "      <td>29</td>\n",
       "    </tr>\n",
       "    <tr>\n",
       "      <th>2</th>\n",
       "      <td>Михаил</td>\n",
       "      <td>400</td>\n",
       "      <td>7</td>\n",
       "    </tr>\n",
       "    <tr>\n",
       "      <th>3</th>\n",
       "      <td>Светлана</td>\n",
       "      <td>900</td>\n",
       "      <td>18</td>\n",
       "    </tr>\n",
       "    <tr>\n",
       "      <th>4</th>\n",
       "      <td>Евгений</td>\n",
       "      <td>1100</td>\n",
       "      <td>22</td>\n",
       "    </tr>\n",
       "  </tbody>\n",
       "</table>\n",
       "</div>"
      ],
      "text/plain": [
       "       name  salary  value\n",
       "0      Иван     800     15\n",
       "1      Петр    1700     29\n",
       "2    Михаил     400      7\n",
       "3  Светлана     900     18\n",
       "4   Евгений    1100     22"
      ]
     },
     "execution_count": 3,
     "metadata": {},
     "output_type": "execute_result"
    }
   ],
   "source": [
    "frame = pd.DataFrame(data, columns=header)\n",
    "frame.head()"
   ]
  },
  {
   "cell_type": "markdown",
   "metadata": {},
   "source": [
    "# Brute Force"
   ]
  },
  {
   "cell_type": "code",
   "execution_count": 4,
   "metadata": {},
   "outputs": [],
   "source": [
    "data = frame.iloc[:,1:3].values"
   ]
  },
  {
   "cell_type": "code",
   "execution_count": 5,
   "metadata": {},
   "outputs": [],
   "source": [
    "def best_choise_brute_force(data, weight_full = 7000):\n",
    "    \"\"\"\n",
    "    Choose the best stuff with brute force algorithm.\n",
    "    \n",
    "    Parameters\n",
    "    -------\n",
    "        data: np.array (N, 2)\n",
    "            The array has the next structure: [[weight, value], ..].\n",
    "        weight_full: int\n",
    "            Max weihgt of the \"bag\"\n",
    "    \n",
    "    Returns\n",
    "    -------\n",
    "        permitation: array (, 2)\n",
    "            The array has the next structure: [[value, indexis], ..].\n",
    "            \n",
    "    \"\"\"\n",
    "    permitation = []\n",
    "    N = len(data)\n",
    "    \n",
    "    #All possible choices (2**N)\n",
    "    perm = [\"\".join(seq) for seq in itertools.product(\"01\", repeat=N)]\n",
    "\n",
    "    for row in perm:   \n",
    "        #str -> array of numbers\n",
    "        choice = [int(i) for i in row]\n",
    "        \n",
    "        #count the weight and value of the selected objects\n",
    "        weight = np.dot(choice, data[:, 0])\n",
    "        value = np.dot(choice, data[:, 1])\n",
    "        \n",
    "        if weight <= weight_full:\n",
    "            permitation.append([value, row])\n",
    "    \n",
    "    return permitation"
   ]
  },
  {
   "cell_type": "code",
   "execution_count": 6,
   "metadata": {},
   "outputs": [
    {
     "name": "stdout",
     "output_type": "stream",
     "text": [
      "CPU times: user 2 s, sys: 25.4 ms, total: 2.02 s\n",
      "Wall time: 2 s\n"
     ]
    }
   ],
   "source": [
    "%%time\n",
    "permitation = best_choise_brute_force(data)"
   ]
  },
  {
   "cell_type": "code",
   "execution_count": 7,
   "metadata": {},
   "outputs": [],
   "source": [
    "df_perm = pd.DataFrame(permitation)"
   ]
  },
  {
   "cell_type": "code",
   "execution_count": 8,
   "metadata": {},
   "outputs": [],
   "source": [
    "#sort by value\n",
    "df_perm[0] *= -1\n",
    "df_perm.sort_values(by=[0], inplace=True)\n",
    "df_perm[0] *= -1"
   ]
  },
  {
   "cell_type": "code",
   "execution_count": 9,
   "metadata": {},
   "outputs": [
    {
     "data": {
      "text/html": [
       "<div>\n",
       "<style scoped>\n",
       "    .dataframe tbody tr th:only-of-type {\n",
       "        vertical-align: middle;\n",
       "    }\n",
       "\n",
       "    .dataframe tbody tr th {\n",
       "        vertical-align: top;\n",
       "    }\n",
       "\n",
       "    .dataframe thead th {\n",
       "        text-align: right;\n",
       "    }\n",
       "</style>\n",
       "<table border=\"1\" class=\"dataframe\">\n",
       "  <thead>\n",
       "    <tr style=\"text-align: right;\">\n",
       "      <th></th>\n",
       "      <th>0</th>\n",
       "      <th>1</th>\n",
       "    </tr>\n",
       "  </thead>\n",
       "  <tbody>\n",
       "    <tr>\n",
       "      <th>28790</th>\n",
       "      <td>133</td>\n",
       "      <td>10111010111010000</td>\n",
       "    </tr>\n",
       "    <tr>\n",
       "      <th>24433</th>\n",
       "      <td>133</td>\n",
       "      <td>10011010110010101</td>\n",
       "    </tr>\n",
       "    <tr>\n",
       "      <th>28771</th>\n",
       "      <td>132</td>\n",
       "      <td>10111010100010101</td>\n",
       "    </tr>\n",
       "    <tr>\n",
       "      <th>7140</th>\n",
       "      <td>132</td>\n",
       "      <td>00011011101010100</td>\n",
       "    </tr>\n",
       "    <tr>\n",
       "      <th>32102</th>\n",
       "      <td>132</td>\n",
       "      <td>11111010011010000</td>\n",
       "    </tr>\n",
       "  </tbody>\n",
       "</table>\n",
       "</div>"
      ],
      "text/plain": [
       "         0                  1\n",
       "28790  133  10111010111010000\n",
       "24433  133  10011010110010101\n",
       "28771  132  10111010100010101\n",
       "7140   132  00011011101010100\n",
       "32102  132  11111010011010000"
      ]
     },
     "execution_count": 9,
     "metadata": {},
     "output_type": "execute_result"
    }
   ],
   "source": [
    "df_perm.head()"
   ]
  },
  {
   "cell_type": "code",
   "execution_count": 10,
   "metadata": {},
   "outputs": [
    {
     "name": "stdout",
     "output_type": "stream",
     "text": [
      "['10111010111010000' '10011010110010101']\n"
     ]
    }
   ],
   "source": [
    "# Seelct maximum values\n",
    "best_choise = df_perm[df_perm[0] == df_perm[0].max()][1].values\n",
    "print(best_choise)"
   ]
  },
  {
   "cell_type": "code",
   "execution_count": 11,
   "metadata": {},
   "outputs": [],
   "source": [
    "# transform strings to the boolean array for further processing\n",
    "best_choise_nask = [ [ bool(int(el)) for el in row] for row in best_choise]"
   ]
  },
  {
   "cell_type": "code",
   "execution_count": 12,
   "metadata": {},
   "outputs": [
    {
     "name": "stdout",
     "output_type": "stream",
     "text": [
      "[[True, False, True, True, True, False, True, False, True, True, True, False, True, False, False, False, False], [True, False, False, True, True, False, True, False, True, True, False, False, True, False, True, False, True]]\n"
     ]
    }
   ],
   "source": [
    "print(best_choise_nask)"
   ]
  },
  {
   "cell_type": "code",
   "execution_count": 13,
   "metadata": {},
   "outputs": [],
   "source": [
    "#Select persons with our mask\n",
    "best_frame_1 = frame[best_choise_nask[0]]\n",
    "best_frame_2 = frame[best_choise_nask[1]]"
   ]
  },
  {
   "cell_type": "code",
   "execution_count": 14,
   "metadata": {},
   "outputs": [
    {
     "data": {
      "text/html": [
       "<div>\n",
       "<style scoped>\n",
       "    .dataframe tbody tr th:only-of-type {\n",
       "        vertical-align: middle;\n",
       "    }\n",
       "\n",
       "    .dataframe tbody tr th {\n",
       "        vertical-align: top;\n",
       "    }\n",
       "\n",
       "    .dataframe thead th {\n",
       "        text-align: right;\n",
       "    }\n",
       "</style>\n",
       "<table border=\"1\" class=\"dataframe\">\n",
       "  <thead>\n",
       "    <tr style=\"text-align: right;\">\n",
       "      <th></th>\n",
       "      <th>name</th>\n",
       "      <th>salary</th>\n",
       "      <th>value</th>\n",
       "    </tr>\n",
       "  </thead>\n",
       "  <tbody>\n",
       "    <tr>\n",
       "      <th>0</th>\n",
       "      <td>Иван</td>\n",
       "      <td>800</td>\n",
       "      <td>15</td>\n",
       "    </tr>\n",
       "    <tr>\n",
       "      <th>2</th>\n",
       "      <td>Михаил</td>\n",
       "      <td>400</td>\n",
       "      <td>7</td>\n",
       "    </tr>\n",
       "    <tr>\n",
       "      <th>3</th>\n",
       "      <td>Светлана</td>\n",
       "      <td>900</td>\n",
       "      <td>18</td>\n",
       "    </tr>\n",
       "    <tr>\n",
       "      <th>4</th>\n",
       "      <td>Евгений</td>\n",
       "      <td>1100</td>\n",
       "      <td>22</td>\n",
       "    </tr>\n",
       "    <tr>\n",
       "      <th>6</th>\n",
       "      <td>Ирина</td>\n",
       "      <td>600</td>\n",
       "      <td>14</td>\n",
       "    </tr>\n",
       "    <tr>\n",
       "      <th>8</th>\n",
       "      <td>Анна</td>\n",
       "      <td>1700</td>\n",
       "      <td>30</td>\n",
       "    </tr>\n",
       "    <tr>\n",
       "      <th>9</th>\n",
       "      <td>Матвей</td>\n",
       "      <td>500</td>\n",
       "      <td>8</td>\n",
       "    </tr>\n",
       "    <tr>\n",
       "      <th>10</th>\n",
       "      <td>Ян</td>\n",
       "      <td>200</td>\n",
       "      <td>3</td>\n",
       "    </tr>\n",
       "    <tr>\n",
       "      <th>12</th>\n",
       "      <td>Ольга</td>\n",
       "      <td>800</td>\n",
       "      <td>16</td>\n",
       "    </tr>\n",
       "  </tbody>\n",
       "</table>\n",
       "</div>"
      ],
      "text/plain": [
       "        name  salary  value\n",
       "0       Иван     800     15\n",
       "2     Михаил     400      7\n",
       "3   Светлана     900     18\n",
       "4    Евгений    1100     22\n",
       "6      Ирина     600     14\n",
       "8       Анна    1700     30\n",
       "9     Матвей     500      8\n",
       "10        Ян     200      3\n",
       "12     Ольга     800     16"
      ]
     },
     "execution_count": 14,
     "metadata": {},
     "output_type": "execute_result"
    }
   ],
   "source": [
    "best_frame_1"
   ]
  },
  {
   "cell_type": "code",
   "execution_count": 15,
   "metadata": {},
   "outputs": [
    {
     "data": {
      "text/plain": [
       "salary    7000\n",
       "value      133\n",
       "dtype: int64"
      ]
     },
     "execution_count": 15,
     "metadata": {},
     "output_type": "execute_result"
    }
   ],
   "source": [
    "#Check\n",
    "best_frame_1.iloc[:,1:3].sum()"
   ]
  },
  {
   "cell_type": "code",
   "execution_count": 16,
   "metadata": {},
   "outputs": [
    {
     "data": {
      "text/html": [
       "<div>\n",
       "<style scoped>\n",
       "    .dataframe tbody tr th:only-of-type {\n",
       "        vertical-align: middle;\n",
       "    }\n",
       "\n",
       "    .dataframe tbody tr th {\n",
       "        vertical-align: top;\n",
       "    }\n",
       "\n",
       "    .dataframe thead th {\n",
       "        text-align: right;\n",
       "    }\n",
       "</style>\n",
       "<table border=\"1\" class=\"dataframe\">\n",
       "  <thead>\n",
       "    <tr style=\"text-align: right;\">\n",
       "      <th></th>\n",
       "      <th>name</th>\n",
       "      <th>salary</th>\n",
       "      <th>value</th>\n",
       "    </tr>\n",
       "  </thead>\n",
       "  <tbody>\n",
       "    <tr>\n",
       "      <th>0</th>\n",
       "      <td>Иван</td>\n",
       "      <td>800</td>\n",
       "      <td>15</td>\n",
       "    </tr>\n",
       "    <tr>\n",
       "      <th>3</th>\n",
       "      <td>Светлана</td>\n",
       "      <td>900</td>\n",
       "      <td>18</td>\n",
       "    </tr>\n",
       "    <tr>\n",
       "      <th>4</th>\n",
       "      <td>Евгений</td>\n",
       "      <td>1100</td>\n",
       "      <td>22</td>\n",
       "    </tr>\n",
       "    <tr>\n",
       "      <th>6</th>\n",
       "      <td>Ирина</td>\n",
       "      <td>600</td>\n",
       "      <td>14</td>\n",
       "    </tr>\n",
       "    <tr>\n",
       "      <th>8</th>\n",
       "      <td>Анна</td>\n",
       "      <td>1700</td>\n",
       "      <td>30</td>\n",
       "    </tr>\n",
       "    <tr>\n",
       "      <th>9</th>\n",
       "      <td>Матвей</td>\n",
       "      <td>500</td>\n",
       "      <td>8</td>\n",
       "    </tr>\n",
       "    <tr>\n",
       "      <th>12</th>\n",
       "      <td>Ольга</td>\n",
       "      <td>800</td>\n",
       "      <td>16</td>\n",
       "    </tr>\n",
       "    <tr>\n",
       "      <th>14</th>\n",
       "      <td>Алиса</td>\n",
       "      <td>300</td>\n",
       "      <td>5</td>\n",
       "    </tr>\n",
       "    <tr>\n",
       "      <th>16</th>\n",
       "      <td>Павел</td>\n",
       "      <td>300</td>\n",
       "      <td>5</td>\n",
       "    </tr>\n",
       "  </tbody>\n",
       "</table>\n",
       "</div>"
      ],
      "text/plain": [
       "        name  salary  value\n",
       "0       Иван     800     15\n",
       "3   Светлана     900     18\n",
       "4    Евгений    1100     22\n",
       "6      Ирина     600     14\n",
       "8       Анна    1700     30\n",
       "9     Матвей     500      8\n",
       "12     Ольга     800     16\n",
       "14     Алиса     300      5\n",
       "16     Павел     300      5"
      ]
     },
     "execution_count": 16,
     "metadata": {},
     "output_type": "execute_result"
    }
   ],
   "source": [
    "best_frame_2"
   ]
  },
  {
   "cell_type": "code",
   "execution_count": 17,
   "metadata": {},
   "outputs": [
    {
     "data": {
      "text/plain": [
       "salary    7000\n",
       "value      133\n",
       "dtype: int64"
      ]
     },
     "execution_count": 17,
     "metadata": {},
     "output_type": "execute_result"
    }
   ],
   "source": [
    "#Check\n",
    "best_frame_1.iloc[:,1:3].sum()"
   ]
  },
  {
   "cell_type": "markdown",
   "metadata": {},
   "source": [
    "# Dynamic Programming/  Knapsack Problem"
   ]
  },
  {
   "cell_type": "code",
   "execution_count": 18,
   "metadata": {},
   "outputs": [
    {
     "data": {
      "text/html": [
       "<div>\n",
       "<style scoped>\n",
       "    .dataframe tbody tr th:only-of-type {\n",
       "        vertical-align: middle;\n",
       "    }\n",
       "\n",
       "    .dataframe tbody tr th {\n",
       "        vertical-align: top;\n",
       "    }\n",
       "\n",
       "    .dataframe thead th {\n",
       "        text-align: right;\n",
       "    }\n",
       "</style>\n",
       "<table border=\"1\" class=\"dataframe\">\n",
       "  <thead>\n",
       "    <tr style=\"text-align: right;\">\n",
       "      <th></th>\n",
       "      <th>name</th>\n",
       "      <th>salary</th>\n",
       "      <th>value</th>\n",
       "    </tr>\n",
       "  </thead>\n",
       "  <tbody>\n",
       "    <tr>\n",
       "      <th>0</th>\n",
       "      <td>Иван</td>\n",
       "      <td>800</td>\n",
       "      <td>15</td>\n",
       "    </tr>\n",
       "    <tr>\n",
       "      <th>1</th>\n",
       "      <td>Петр</td>\n",
       "      <td>1700</td>\n",
       "      <td>29</td>\n",
       "    </tr>\n",
       "    <tr>\n",
       "      <th>2</th>\n",
       "      <td>Михаил</td>\n",
       "      <td>400</td>\n",
       "      <td>7</td>\n",
       "    </tr>\n",
       "    <tr>\n",
       "      <th>3</th>\n",
       "      <td>Светлана</td>\n",
       "      <td>900</td>\n",
       "      <td>18</td>\n",
       "    </tr>\n",
       "    <tr>\n",
       "      <th>4</th>\n",
       "      <td>Евгений</td>\n",
       "      <td>1100</td>\n",
       "      <td>22</td>\n",
       "    </tr>\n",
       "  </tbody>\n",
       "</table>\n",
       "</div>"
      ],
      "text/plain": [
       "       name  salary  value\n",
       "0      Иван     800     15\n",
       "1      Петр    1700     29\n",
       "2    Михаил     400      7\n",
       "3  Светлана     900     18\n",
       "4   Евгений    1100     22"
      ]
     },
     "execution_count": 18,
     "metadata": {},
     "output_type": "execute_result"
    }
   ],
   "source": [
    "frame.head()"
   ]
  },
  {
   "cell_type": "markdown",
   "metadata": {},
   "source": [
    "We can devide our 'salary' column by 100 to do the dimension of our  'Bags\" table smaller. \n",
    "It's possible because we haven't got numbers in 'salary' column no multiples 100."
   ]
  },
  {
   "cell_type": "code",
   "execution_count": 19,
   "metadata": {},
   "outputs": [],
   "source": [
    "frame_100 = copy.deepcopy(frame)\n",
    "frame_100['salary'] //= 100"
   ]
  },
  {
   "cell_type": "code",
   "execution_count": 20,
   "metadata": {},
   "outputs": [],
   "source": [
    "weight_full = 7000 // 100\n",
    "data_100 = frame_100.iloc[:,1:3].values"
   ]
  },
  {
   "cell_type": "code",
   "execution_count": 88,
   "metadata": {},
   "outputs": [],
   "source": [
    "def best_choise(data, weight_full = 70):\n",
    "    \"\"\"\n",
    "    Choose the best stuff with dynamic programming.\n",
    "    Knapsack Problem.\n",
    "    \n",
    "    Parameters\n",
    "    -------\n",
    "        data: np.array (N, 2)\n",
    "            The array has the next structure: [[weight, value], ..].\n",
    "        weight_full: int\n",
    "            Max weihgt of the \"bag\"\n",
    "    \n",
    "    Returns\n",
    "    -------\n",
    "        list_out: array\n",
    "            Array with indexes of the best objects.\n",
    "            \n",
    "    \"\"\"\n",
    "    \n",
    "    #wt - 'weights' of the objects\n",
    "    #val - 'values' of the objects\n",
    "    \n",
    "    #append nothing to the start of the arrays to have zeros at \n",
    "    #the first column and first row of our matrix V\n",
    "    wt = np.concatenate(([0],data_100[:,0]))\n",
    "    val = np.concatenate(([0],data_100[:,1]))\n",
    "\n",
    "    #weight_full + 1 . Because [0, 70) doesn't include 70\n",
    "    V = np.zeros((len(wt), weight_full + 1))\n",
    "    \n",
    "    #build our matrix\n",
    "    for i in range(V.shape[0]):\n",
    "        for w in range(V.shape[1]):\n",
    "            if i != 0:\n",
    "                if wt[i] > w:\n",
    "                    V[i, w] = V[i-1, w]\n",
    "                elif wt[i] <= w:\n",
    "                    V[i,w] = max(V[i-1, w] , val[i] + V[i-1, w - wt[i]])\n",
    "    \n",
    "    max_val = V[-1,-1]\n",
    "    \n",
    "    i = V.shape[0] - 1\n",
    "    w = V.shape[1] - 1\n",
    "    list_out = []\n",
    "    \n",
    "    #find indexes the best objects\n",
    "    while i > 0 and w > 0:\n",
    "        if V[i, w] != V[i-1, w]:\n",
    "            list_out.append(i - 1)\n",
    "            w -= wt[i]\n",
    "        i -= 1\n",
    "                    \n",
    "    return list_out\n",
    "    "
   ]
  },
  {
   "cell_type": "code",
   "execution_count": 89,
   "metadata": {},
   "outputs": [],
   "source": [
    "best_idxs = best_choise(data_100)"
   ]
  },
  {
   "cell_type": "code",
   "execution_count": 90,
   "metadata": {},
   "outputs": [
    {
     "data": {
      "text/html": [
       "<div>\n",
       "<style scoped>\n",
       "    .dataframe tbody tr th:only-of-type {\n",
       "        vertical-align: middle;\n",
       "    }\n",
       "\n",
       "    .dataframe tbody tr th {\n",
       "        vertical-align: top;\n",
       "    }\n",
       "\n",
       "    .dataframe thead th {\n",
       "        text-align: right;\n",
       "    }\n",
       "</style>\n",
       "<table border=\"1\" class=\"dataframe\">\n",
       "  <thead>\n",
       "    <tr style=\"text-align: right;\">\n",
       "      <th></th>\n",
       "      <th>name</th>\n",
       "      <th>salary</th>\n",
       "      <th>value</th>\n",
       "    </tr>\n",
       "  </thead>\n",
       "  <tbody>\n",
       "    <tr>\n",
       "      <th>12</th>\n",
       "      <td>Ольга</td>\n",
       "      <td>800</td>\n",
       "      <td>16</td>\n",
       "    </tr>\n",
       "    <tr>\n",
       "      <th>10</th>\n",
       "      <td>Ян</td>\n",
       "      <td>200</td>\n",
       "      <td>3</td>\n",
       "    </tr>\n",
       "    <tr>\n",
       "      <th>9</th>\n",
       "      <td>Матвей</td>\n",
       "      <td>500</td>\n",
       "      <td>8</td>\n",
       "    </tr>\n",
       "    <tr>\n",
       "      <th>8</th>\n",
       "      <td>Анна</td>\n",
       "      <td>1700</td>\n",
       "      <td>30</td>\n",
       "    </tr>\n",
       "    <tr>\n",
       "      <th>6</th>\n",
       "      <td>Ирина</td>\n",
       "      <td>600</td>\n",
       "      <td>14</td>\n",
       "    </tr>\n",
       "    <tr>\n",
       "      <th>4</th>\n",
       "      <td>Евгений</td>\n",
       "      <td>1100</td>\n",
       "      <td>22</td>\n",
       "    </tr>\n",
       "    <tr>\n",
       "      <th>3</th>\n",
       "      <td>Светлана</td>\n",
       "      <td>900</td>\n",
       "      <td>18</td>\n",
       "    </tr>\n",
       "    <tr>\n",
       "      <th>2</th>\n",
       "      <td>Михаил</td>\n",
       "      <td>400</td>\n",
       "      <td>7</td>\n",
       "    </tr>\n",
       "    <tr>\n",
       "      <th>0</th>\n",
       "      <td>Иван</td>\n",
       "      <td>800</td>\n",
       "      <td>15</td>\n",
       "    </tr>\n",
       "  </tbody>\n",
       "</table>\n",
       "</div>"
      ],
      "text/plain": [
       "        name  salary  value\n",
       "12     Ольга     800     16\n",
       "10        Ян     200      3\n",
       "9     Матвей     500      8\n",
       "8       Анна    1700     30\n",
       "6      Ирина     600     14\n",
       "4    Евгений    1100     22\n",
       "3   Светлана     900     18\n",
       "2     Михаил     400      7\n",
       "0       Иван     800     15"
      ]
     },
     "execution_count": 90,
     "metadata": {},
     "output_type": "execute_result"
    }
   ],
   "source": [
    "best_frame = frame.iloc[best_idxs, :]\n",
    "best_frame"
   ]
  },
  {
   "cell_type": "code",
   "execution_count": 91,
   "metadata": {},
   "outputs": [
    {
     "data": {
      "text/plain": [
       "salary    7000\n",
       "value      133\n",
       "dtype: int64"
      ]
     },
     "execution_count": 91,
     "metadata": {},
     "output_type": "execute_result"
    }
   ],
   "source": [
    "best_frame.iloc[:,1:3].sum()"
   ]
  }
 ],
 "metadata": {
  "kernelspec": {
   "display_name": "Python 3",
   "language": "python",
   "name": "python3"
  },
  "language_info": {
   "codemirror_mode": {
    "name": "ipython",
    "version": 3
   },
   "file_extension": ".py",
   "mimetype": "text/x-python",
   "name": "python",
   "nbconvert_exporter": "python",
   "pygments_lexer": "ipython3",
   "version": "3.6.6"
  }
 },
 "nbformat": 4,
 "nbformat_minor": 2
}
